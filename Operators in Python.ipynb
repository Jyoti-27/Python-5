{
 "cells": [
  {
   "cell_type": "code",
   "execution_count": 1,
   "metadata": {},
   "outputs": [],
   "source": [
    "a = 2\n",
    "b = 2"
   ]
  },
  {
   "cell_type": "code",
   "execution_count": 3,
   "metadata": {},
   "outputs": [
    {
     "data": {
      "text/plain": [
       "4"
      ]
     },
     "execution_count": 3,
     "metadata": {},
     "output_type": "execute_result"
    }
   ],
   "source": [
    "a + b"
   ]
  },
  {
   "cell_type": "code",
   "execution_count": 5,
   "metadata": {},
   "outputs": [
    {
     "name": "stdout",
     "output_type": "stream",
     "text": [
      "4\n",
      "0\n",
      "4\n"
     ]
    }
   ],
   "source": [
    "print(a + b)\n",
    "print( a - b)\n",
    "print(a * b)\n"
   ]
  },
  {
   "cell_type": "code",
   "execution_count": 7,
   "metadata": {},
   "outputs": [
    {
     "name": "stdout",
     "output_type": "stream",
     "text": [
      "1\n"
     ]
    }
   ],
   "source": [
    "print( 10 % 3)\n"
   ]
  },
  {
   "cell_type": "markdown",
   "metadata": {},
   "source": [
    "- Assignment Operators"
   ]
  },
  {
   "cell_type": "markdown",
   "metadata": {},
   "source": [
    "- The standard assignment operators are available. That is ,α ® = beta is a shorthand for α = α ® β where ® is any arithmetic operator we saw above."
   ]
  },
  {
   "cell_type": "code",
   "execution_count": 9,
   "metadata": {},
   "outputs": [
    {
     "name": "stdout",
     "output_type": "stream",
     "text": [
      "17 5\n",
      "12 5\n",
      "60 5\n",
      "777600000 5\n"
     ]
    }
   ],
   "source": [
    "a = 12\n",
    "b = 5\n",
    "a += b\n",
    "print(a, b)\n",
    "a -= b\n",
    "print(a, b)\n",
    "a *= b\n",
    "print(a, b)\n",
    "a **= b\n",
    "print(a, b)"
   ]
  },
  {
   "cell_type": "markdown",
   "metadata": {},
   "source": [
    "- Boolean \n",
    "- The two constants True and False are defined.\n",
    "- The usual boolean operators are also available  : ==, !=, >, <, >=, <="
   ]
  },
  {
   "cell_type": "code",
   "execution_count": 11,
   "metadata": {},
   "outputs": [
    {
     "name": "stdout",
     "output_type": "stream",
     "text": [
      "True False True True False\n"
     ]
    }
   ],
   "source": [
    "a = 12\n",
    "b = 13\n",
    "print(a ==b - 1, a == b, a != b, a < b, a >= b)"
   ]
  },
  {
   "cell_type": "markdown",
   "metadata": {},
   "source": [
    "- Bitwise Operators\n",
    "- Bitwise operators acts on bits and performs bit by bit operation."
   ]
  },
  {
   "cell_type": "code",
   "execution_count": null,
   "metadata": {},
   "outputs": [],
   "source": [
    "- Bitwise AND------X & Y\n",
    "- Bitwise OR------X | Y\n",
    "- Bitwise NOT------X ~ Y\n",
    "- Bitwise XOR------X ^ Y\n",
    "- Bitwise RIght Shift------X >>\n",
    "- Bitwise Left Shift------X <<"
   ]
  },
  {
   "cell_type": "code",
   "execution_count": 14,
   "metadata": {},
   "outputs": [
    {
     "name": "stdout",
     "output_type": "stream",
     "text": [
      "0b111100\n",
      "0b1101\n"
     ]
    }
   ],
   "source": [
    "a = 60\n",
    "print(bin(a))\n",
    "b = 13\n",
    "print(bin(b))"
   ]
  },
  {
   "cell_type": "code",
   "execution_count": 22,
   "metadata": {},
   "outputs": [
    {
     "name": "stdout",
     "output_type": "stream",
     "text": [
      "Value of c is  12\n",
      "Value of c is  61\n",
      "Value of c is  49\n",
      "Value of c is  -61\n",
      "Value of c is  15\n",
      "Value of c is  240\n"
     ]
    }
   ],
   "source": [
    "a = 60   # 60 = 0011 1100\n",
    "b = 13   # 13 = 0000 1101\n",
    "\n",
    "c = a & b;   # 12 = 0000 1100\n",
    "print(\"Value of c is \",c)\n",
    "\n",
    "c = a | b;   # 61 = 0011 1101\n",
    "print(\"Value of c is \",c)\n",
    "\n",
    "c = a ^ b;   # 49 = 0011 0001\n",
    "print(\"Value of c is \",c)\n",
    "      \n",
    "c = ~ a;     # 61 = 1100 0011\n",
    "print(\"Value of c is \",c)\n",
    "      \n",
    "# The left operands value is moved right by the number of bits specified by the rigte operand.      \n",
    "c = a >> 2;  # 15 = 0000 1111 and a will be moved two units at the left.\n",
    "print(\"Value of c is \",c)\n",
    "\n",
    "# The left operands value is moved left by the number of bits specified by the left operand.\n",
    "c = a << 2;  # 240 = 1111 0000 and a will be moved two units at the right.\n",
    "print(\"Value of c is \",c)\n"
   ]
  },
  {
   "cell_type": "markdown",
   "metadata": {},
   "source": [
    "- Relational Operators"
   ]
  },
  {
   "cell_type": "markdown",
   "metadata": {},
   "source": [
    "###  Relational Operators: \n",
    "    Relational operators compares the values. It either returns True or False according to the condition.\n",
    "\n",
    "- Greater than: True if left operand is greater than the right---- x > y\n",
    "- Less than: True if left operand is less than the right---- x < y\n",
    "- Equal to: True if both operands are equal---- x == y\n",
    "- Not equal to - True if operands are not equal---- x != y\n",
    "- Greater than or equal to: True if left operand is greater than or equal to the right---- x >= y\n",
    "- Less than or equal to: True if left operand is less than or equal to the right---- x <= y\n",
    "\n"
   ]
  },
  {
   "cell_type": "code",
   "execution_count": 35,
   "metadata": {},
   "outputs": [
    {
     "name": "stdout",
     "output_type": "stream",
     "text": [
      "False\n",
      "True\n",
      "False\n",
      "True\n",
      "False\n",
      "True\n"
     ]
    }
   ],
   "source": [
    "# Examples of Relational Operators \n",
    "a = 25\n",
    "b = 47\n",
    "  \n",
    "# a > b is False \n",
    "print(a > b) \n",
    "  \n",
    "# a < b is True \n",
    "print(a < b) \n",
    "  \n",
    "# a == b is False \n",
    "print(a == b) \n",
    "  \n",
    "# a != b is True \n",
    "print(a != b) \n",
    "  \n",
    "# a >= b is False \n",
    "print(a >= b) \n",
    "  \n",
    "# a <= b is True \n",
    "print(a <= b)\n"
   ]
  },
  {
   "cell_type": "markdown",
   "metadata": {},
   "source": [
    "### Special operators:\n",
    "    There are some special type of operators like-\n",
    "###### Identity operators-\n",
    "is and is not are the identity operators both are used to check if two values are located on the same part of the memory. Two variables that are equal does not imply that they are identical.\n",
    "- is          True if the operands are identical \n",
    "- is not      True if the operands are not identical\n"
   ]
  },
  {
   "cell_type": "code",
   "execution_count": 29,
   "metadata": {},
   "outputs": [
    {
     "name": "stdout",
     "output_type": "stream",
     "text": [
      "False\n",
      "True\n",
      "False\n",
      "False\n"
     ]
    }
   ],
   "source": [
    "# Examples of Identity Operators\n",
    "a1 = 3\n",
    "b1 = 3\n",
    "a2 = 'DataScience'\n",
    "b2 = 'DataScience'\n",
    "a3 = [1, 2, 3]\n",
    "b3 = [1, 2, 3]\n",
    "a4 = (1, 2, 3)\n",
    "b4 = (1, 2, 3)\n",
    "print(a1 is not b1)\n",
    "print(a2 is b2)\n",
    "# Output is False,Since Lists are mutable.\n",
    "print(a3 is b3)\n",
    "print(a4 is b4)"
   ]
  },
  {
   "cell_type": "code",
   "execution_count": 27,
   "metadata": {},
   "outputs": [
    {
     "ename": "TypeError",
     "evalue": "'str' object does not support item assignment",
     "output_type": "error",
     "traceback": [
      "\u001b[1;31m---------------------------------------------------------------------------\u001b[0m",
      "\u001b[1;31mTypeError\u001b[0m                                 Traceback (most recent call last)",
      "\u001b[1;32m<ipython-input-27-2aa068ee8711>\u001b[0m in \u001b[0;36m<module>\u001b[1;34m\u001b[0m\n\u001b[1;32m----> 1\u001b[1;33m \u001b[0ma2\u001b[0m\u001b[1;33m[\u001b[0m\u001b[1;36m2\u001b[0m\u001b[1;33m]\u001b[0m \u001b[1;33m=\u001b[0m \u001b[1;34m\"M\"\u001b[0m\u001b[1;33m\u001b[0m\u001b[1;33m\u001b[0m\u001b[0m\n\u001b[0m",
      "\u001b[1;31mTypeError\u001b[0m: 'str' object does not support item assignment"
     ]
    }
   ],
   "source": [
    "a2[2] = \"M\""
   ]
  },
  {
   "cell_type": "markdown",
   "metadata": {},
   "source": [
    "- Logical Operators"
   ]
  },
  {
   "cell_type": "markdown",
   "metadata": {},
   "source": [
    "### Logical operators: \n",
    "    Logical operators perform Logical AND, Logical OR and Logical NOT operations.\n",
    "\n",
    "\n",
    "- Logical AND: True if both the operands are true----  x and y\n",
    "- Logical OR: True if either of the operands is true---  x or y\n",
    "- Logical NOT: True if operand is false--- not x\n",
    "\n"
   ]
  },
  {
   "cell_type": "code",
   "execution_count": 31,
   "metadata": {},
   "outputs": [
    {
     "name": "stdout",
     "output_type": "stream",
     "text": [
      "False\n",
      "True\n",
      "False\n"
     ]
    }
   ],
   "source": [
    "# Examples of Logical Operator \n",
    "a = True\n",
    "b = False\n",
    "  \n",
    "# Print a and b is False \n",
    "print(a and b) \n",
    "  \n",
    "# Print a or b is True \n",
    "print(a or b) \n",
    "  \n",
    "# Print not a is False \n",
    "print(not a)\n"
   ]
  },
  {
   "cell_type": "code",
   "execution_count": 33,
   "metadata": {},
   "outputs": [
    {
     "name": "stdout",
     "output_type": "stream",
     "text": [
      "88\n",
      "88\n"
     ]
    }
   ],
   "source": [
    "import sys\n",
    "print(sys.getsizeof(a3))\n",
    "print(sys.getsizeof(b3))"
   ]
  },
  {
   "cell_type": "markdown",
   "metadata": {},
   "source": [
    "- Conditional Statement"
   ]
  },
  {
   "cell_type": "code",
   "execution_count": 44,
   "metadata": {},
   "outputs": [
    {
     "name": "stdout",
     "output_type": "stream",
     "text": [
      "eligible for loan\n"
     ]
    }
   ],
   "source": [
    "# Create a variable salary and Indentation is necessary after If and else\n",
    "salary = 35000\n",
    "if salary >= 25000: \n",
    "    print(\"eligible for loan\")\n",
    "else:\n",
    "        print(\"Not eligible for loan\")"
   ]
  },
  {
   "cell_type": "code",
   "execution_count": 43,
   "metadata": {},
   "outputs": [
    {
     "name": "stdout",
     "output_type": "stream",
     "text": [
      "Not eligible for loan\n"
     ]
    }
   ],
   "source": [
    "# Create a variable salary and Indentation is necessary after If and else\n",
    "salary = 15000\n",
    "if salary >= 25000: \n",
    "    print(\"eligible for loan\")\n",
    "else:\n",
    "        print(\"Not eligible for loan\")"
   ]
  },
  {
   "cell_type": "code",
   "execution_count": 51,
   "metadata": {
    "scrolled": true
   },
   "outputs": [
    {
     "ename": "IndentationError",
     "evalue": "expected an indented block (<ipython-input-51-f93a407010af>, line 4)",
     "output_type": "error",
     "traceback": [
      "\u001b[1;36m  File \u001b[1;32m\"<ipython-input-51-f93a407010af>\"\u001b[1;36m, line \u001b[1;32m4\u001b[0m\n\u001b[1;33m    print(\"eligible for loan\")\u001b[0m\n\u001b[1;37m        ^\u001b[0m\n\u001b[1;31mIndentationError\u001b[0m\u001b[1;31m:\u001b[0m expected an indented block\n"
     ]
    }
   ],
   "source": [
    "# Create a variable salary and without indentation eror is generated there.\n",
    "salary = 35000\n",
    "if salary >= 25000: \n",
    "print(\"eligible for loan\")"
   ]
  },
  {
   "cell_type": "code",
   "execution_count": 50,
   "metadata": {},
   "outputs": [
    {
     "name": "stdout",
     "output_type": "stream",
     "text": [
      "Eligible for next round\n"
     ]
    }
   ],
   "source": [
    "marks = 90\n",
    "if marks >= 70:\n",
    "    print(\"Eligible for next round\")\n",
    "else:\n",
    "    print(\"Not eligible for next round\")      "
   ]
  },
  {
   "cell_type": "code",
   "execution_count": null,
   "metadata": {},
   "outputs": [],
   "source": [
    "\n"
   ]
  }
 ],
 "metadata": {
  "kernelspec": {
   "display_name": "Python 3",
   "language": "python",
   "name": "python3"
  },
  "language_info": {
   "codemirror_mode": {
    "name": "ipython",
    "version": 3
   },
   "file_extension": ".py",
   "mimetype": "text/x-python",
   "name": "python",
   "nbconvert_exporter": "python",
   "pygments_lexer": "ipython3",
   "version": "3.7.6"
  }
 },
 "nbformat": 4,
 "nbformat_minor": 4
}
